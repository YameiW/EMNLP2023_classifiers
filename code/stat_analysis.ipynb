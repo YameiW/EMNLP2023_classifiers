{
 "cells": [
  {
   "cell_type": "code",
   "execution_count": 1,
   "metadata": {},
   "outputs": [],
   "source": [
    "import pandas as pd\n",
    "import numpy as np\n",
    "from scipy import stats\n",
    "import sys\n",
    "sys.path.append('../src')\n",
    "from utils import *"
   ]
  },
  {
   "cell_type": "code",
   "execution_count": 2,
   "metadata": {},
   "outputs": [],
   "source": [
    "# import the data\n",
    "df = pd.read_csv('../data/cleaned_data.csv',index_col=[0])\n",
    "df = df.drop_duplicates()\n",
    "df = df[df['clf_id'].astype('int')<df['clf_gov2_id'].astype('int')]\n",
    "\n",
    "df_clf_noun =  df[df['clf_id'] == df['clf_gov2_id'] - 1].reset_index()\n",
    "df_clf_mod_noun =  df[df['clf_id'] != df['clf_gov2_id'] - 1].reset_index()"
   ]
  },
  {
   "attachments": {},
   "cell_type": "markdown",
   "metadata": {},
   "source": [
    "#### frequency comparisons between two structures"
   ]
  },
  {
   "cell_type": "code",
   "execution_count": 4,
   "metadata": {},
   "outputs": [
    {
     "name": "stdout",
     "output_type": "stream",
     "text": [
      "The f-value is 3.69 and the p-value is 0.027.\n"
     ]
    }
   ],
   "source": [
    "nounFreq = pd.read_pickle(\"../data/leipzig.noun.pkl\" )\n",
    "nouns1 = df_clf_noun['clf_gov2_form'].unique()\n",
    "nouns2 = df_clf_mod_noun['clf_gov2_form'].unique()\n",
    "\n",
    "df1 = pd.DataFrame(list(nouns1),columns=['noun'])\n",
    "df1['freq'] = df1.noun.map(nounFreq)\n",
    "df1['log_freq'] = np.log(df1['freq'])\n",
    "df1['type'] = 'clf_noun'\n",
    "\n",
    "df2 = pd.DataFrame(list(nouns2),columns=['noun'])\n",
    "df2['freq'] = df2.noun.map(nounFreq)\n",
    "df2['log_freq'] = np.log(df2['freq'])\n",
    "df2['type'] = 'clf_mod_noun'\n",
    "\n",
    "f_value, p_value = stats.f_oneway(df1['freq'].values,df2['freq'].values)\n",
    "p_value_one_sided = p_value /2\n",
    "print(f\"The f-value is {round(f_value,2)} and the p-value is {round(p_value_one_sided,3)}.\")"
   ]
  },
  {
   "attachments": {},
   "cell_type": "markdown",
   "metadata": {},
   "source": [
    "#### MI comparisons between two structures"
   ]
  },
  {
   "cell_type": "code",
   "execution_count": 10,
   "metadata": {},
   "outputs": [],
   "source": [
    "nouns3 = list(df_clf_noun['clf_gov2_form'])\n",
    "nouns4 = list(df_clf_mod_noun['clf_gov2_form'])\n",
    "\n",
    "nouns3_ent = entropy(nouns3)\n",
    "nouns4_ent = entropy(nouns4)\n",
    "\n",
    "nouns3_clf_counter = df_clf_noun.groupby('clf_form')['clf_gov2_form'].apply(list).to_dict()\n",
    "nouns4_clf_counter = df_clf_mod_noun.groupby('clf_form')['clf_gov2_form'].apply(list).to_dict()\n",
    "\n",
    "nouns3_clf_counter = {key: Counter(val) for key, val in nouns3_clf_counter.items()}\n",
    "nouns4_clf_counter = {key: Counter(val) for key, val in nouns4_clf_counter.items()}\n",
    "\n",
    "clf_noun_cond_ent = cond_entropy(nouns3_clf_counter)\n",
    "clf_mod_noun_cond_ent = cond_entropy(nouns4_clf_counter)\n",
    "\n",
    "clf_noun_cond_ent_val = list(clf_noun_cond_ent.values())\n",
    "clf_mod_noun_cond_ent_val = list(clf_mod_noun_cond_ent.values())\n",
    "\n",
    "clf_noun_mi = [nouns3_ent - cond_ent for cond_ent in clf_noun_cond_ent_val]\n",
    "clf_mod_noun_mi = [nouns4_ent - cond_ent for cond_ent in clf_mod_noun_cond_ent_val]"
   ]
  },
  {
   "cell_type": "code",
   "execution_count": 26,
   "metadata": {},
   "outputs": [
    {
     "name": "stdout",
     "output_type": "stream",
     "text": [
      "The f_value of ANOVA us 29.42, and the p_value is 0.0\n",
      "The mean MI from the clf_noun structure is 7.91,and that from clf_mod_noun structure is 6.79.\n"
     ]
    }
   ],
   "source": [
    "f_value, p_value = stats.f_oneway(clf_noun_mi,clf_mod_noun_mi)\n",
    "print(f'The f_value of ANOVA us {round(f_value,2)}, and the p_value is {round(p_value,3)}')\n",
    "print(f'The mean MI from the clf_noun structure is {round(np.mean(clf_noun_mi),2)},and that from clf_mod_noun structure is {round(np.mean(clf_mod_noun_mi),2)}.')"
   ]
  }
 ],
 "metadata": {
  "kernelspec": {
   "display_name": "EMNLP2023_classifier",
   "language": "python",
   "name": "python3"
  },
  "language_info": {
   "codemirror_mode": {
    "name": "ipython",
    "version": 3
   },
   "file_extension": ".py",
   "mimetype": "text/x-python",
   "name": "python",
   "nbconvert_exporter": "python",
   "pygments_lexer": "ipython3",
   "version": "3.8.18"
  },
  "orig_nbformat": 4
 },
 "nbformat": 4,
 "nbformat_minor": 2
}
